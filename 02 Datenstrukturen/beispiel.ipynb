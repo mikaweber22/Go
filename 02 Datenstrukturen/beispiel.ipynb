{
 "cells": [
  {
   "cell_type": "markdown",
   "metadata": {},
   "source": [
    "# Datenstrukturen\n",
    "Datenstrukturen sind Sammlungen von Informationen, die in einer bestimmten Form strukturiert sind."
   ]
  },
  {
   "cell_type": "markdown",
   "metadata": {},
   "source": [
    "### Listen: Geordnete Sammlung von Elementen"
   ]
  },
  {
   "cell_type": "code",
   "execution_count": 10,
   "metadata": {},
   "outputs": [
    {
     "data": {
      "text/plain": [
       "5"
      ]
     },
     "execution_count": 10,
     "metadata": {},
     "output_type": "execute_result"
    }
   ],
   "source": [
    "wochentage_string = \"Montag, Dienstag, Mittwoch, Donnerstag, Freitag, Samstag, Sonntag\"\n",
    "wochentage = [\"Montag\", \"Dienstag\", \"Mittwoch\", \"Donnerstag\", \"Freitag\", \"Samstag\", \"Sonntag\"]\n",
    "\n",
    "# Moritz, Hannes, laura und Anna haben folgende Noten bekommen:\n",
    "noten = [1, 6, 3, 2]\n",
    "\n",
    "# Durchschnitt der Noten berechnen\n",
    "durchschnitt = sum(noten) / len(noten)\n",
    "\n",
    "noten[0] # 1\n",
    "noten[1] = 5 # 6 wird zu 5\n",
    "noten[1]"
   ]
  },
  {
   "cell_type": "markdown",
   "metadata": {},
   "source": [
    "### Dictionaries: Sammlung an Schlüssel-Wert-Paaren"
   ]
  },
  {
   "cell_type": "code",
   "execution_count": 11,
   "metadata": {},
   "outputs": [],
   "source": [
    "noten_dict = {\n",
    "    \"moritz\": 1,\n",
    "    \"hannes\": 6, \n",
    "    \"laura\": 3,\n",
    "    \"anna\": 2\n",
    "}\n",
    "noten_dict[\"moritz\"]\n",
    "noten_aus_dict = noten_dict.values() # [1, 6, 3, 2]\n"
   ]
  },
  {
   "cell_type": "markdown",
   "metadata": {},
   "source": [
    "### Tupel: Geordnete Sammlung von Elementen, die nicht verändert werden können"
   ]
  },
  {
   "cell_type": "code",
   "execution_count": 12,
   "metadata": {},
   "outputs": [
    {
     "ename": "TypeError",
     "evalue": "'tuple' object does not support item assignment",
     "output_type": "error",
     "traceback": [
      "\u001b[0;31m---------------------------------------------------------------------------\u001b[0m",
      "\u001b[0;31mTypeError\u001b[0m                                 Traceback (most recent call last)",
      "Cell \u001b[0;32mIn[12], line 3\u001b[0m\n\u001b[1;32m      1\u001b[0m tupel \u001b[38;5;241m=\u001b[39m (\u001b[38;5;241m0\u001b[39m, \u001b[38;5;241m2\u001b[39m, \u001b[38;5;241m3\u001b[39m)\n\u001b[1;32m      2\u001b[0m tupel[\u001b[38;5;241m0\u001b[39m]\n\u001b[0;32m----> 3\u001b[0m tupel[\u001b[38;5;241m1\u001b[39m] \u001b[38;5;241m=\u001b[39m \u001b[38;5;241m1\u001b[39m\n",
      "\u001b[0;31mTypeError\u001b[0m: 'tuple' object does not support item assignment"
     ]
    }
   ],
   "source": [
    "tupel = (0, 2, 3)\n",
    "tupel[0]\n",
    "# tupel[1] = 1 # Fehler, da Tupel unveränderlich sind"
   ]
  }
 ],
 "metadata": {
  "kernelspec": {
   "display_name": "base",
   "language": "python",
   "name": "python3"
  },
  "language_info": {
   "codemirror_mode": {
    "name": "ipython",
    "version": 3
   },
   "file_extension": ".py",
   "mimetype": "text/x-python",
   "name": "python",
   "nbconvert_exporter": "python",
   "pygments_lexer": "ipython3",
   "version": "3.11.5"
  }
 },
 "nbformat": 4,
 "nbformat_minor": 2
}
