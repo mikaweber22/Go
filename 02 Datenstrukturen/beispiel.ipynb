{
 "cells": [
  {
   "cell_type": "markdown",
   "metadata": {},
   "source": [
    "# Datenstrukturen\n",
    "Datenstrukturen sind Sammlungen von Informationen, die in einer bestimmten Form strukturiert sind."
   ]
  },
  {
   "cell_type": "markdown",
   "metadata": {},
   "source": [
    "## Listen: Veränderliche geordnete Sammlung von Elementen"
   ]
  },
  {
   "cell_type": "code",
   "execution_count": null,
   "metadata": {},
   "outputs": [],
   "source": [
    "wochentage_string = \"Montag, Dienstag, Mittwoch, Donnerstag, Freitag, Samstag, Sonntag\"\n",
    "wochentage = [\"Montag\", \"Dienstag\", \"Mittwoch\", \"Donnerstag\", \"Freitag\", \"Samstag\", \"Sonntag\"]\n",
    "\n",
    "# Moritz, Hannes, laura und Anna haben folgende Noten bekommen:\n",
    "noten = [1, 6, 3, 2]\n",
    "\n",
    "# Durchschnitt der Noten berechnen\n",
    "durchschnitt = sum(noten) / len(noten)\n",
    "\n",
    "noten[0] # 1\n",
    "noten[1] = 5 # 6 wird zu 5\n",
    "noten[1]\n"
   ]
  },
  {
   "cell_type": "markdown",
   "metadata": {},
   "source": [
    "## Dictionaries: Veränderliche ungeordnete Sammlung von Elementen als Schlüssel-Wert-Paare\n",
    "Schlüssel können nicht mehrfach vorkommen, Werte schon!"
   ]
  },
  {
   "cell_type": "code",
   "execution_count": null,
   "metadata": {},
   "outputs": [],
   "source": [
    "noten_dict = {\n",
    "    \"moritz\": [1, 0],\n",
    "    \"hannes\": [2, 3],.updaTE\n",
    "    \"anna\": [2, 2]\n",
    "}\n",
    "noten_dict[\"moritz\"] = noten_dict[\"moritz\"].append(5)\n",
    "noten_aus_dict = noten_dict.values() # [1, 6, 3, 2]\n"
   ]
  },
  {
   "cell_type": "markdown",
   "metadata": {},
   "source": [
    "## Tupel: Unveränderliche geordnete Sammlung von Elementen\n",
    "Elemente können mehrfach vorkommen."
   ]
  },
  {
   "cell_type": "code",
   "execution_count": null,
   "metadata": {},
   "outputs": [],
   "source": [
    "alphabet_tupel = (\"A\", \"B\", \"C\", \"a\", \"b\", \"c\")\n",
    "a = alphabet_tupel[0] # A"
   ]
  },
  {
   "cell_type": "markdown",
   "metadata": {},
   "source": [
    "## Sets: Veränderliche ungeordnete Sammlung von Elementen\n",
    "Elemente können nicht mehrfach vorkommen."
   ]
  },
  {
   "cell_type": "code",
   "execution_count": 1,
   "metadata": {},
   "outputs": [
    {
     "name": "stdout",
     "output_type": "stream",
     "text": [
      "Lea ist dabei\n"
     ]
    }
   ],
   "source": [
    "mitglieder_set = {'lea', 'moritz', 'tim', 'marie',}\n",
    "\n",
    "if \"lea\" in mitglieder_set:\n",
    "    print(\"Lea ist dabei\")\n",
    "\n",
    "mitglieder_set.add(\"Paul\")\n",
    "mitglieder_set.remove(\"tim\")"
   ]
  }
 ],
 "metadata": {
  "kernelspec": {
   "display_name": "base",
   "language": "python",
   "name": "python3"
  },
  "language_info": {
   "codemirror_mode": {
    "name": "ipython",
    "version": 3
   },
   "file_extension": ".py",
   "mimetype": "text/x-python",
   "name": "python",
   "nbconvert_exporter": "python",
   "pygments_lexer": "ipython3",
   "version": "3.11.5"
  }
 },
 "nbformat": 4,
 "nbformat_minor": 2
}
