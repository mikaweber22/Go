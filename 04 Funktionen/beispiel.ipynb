{
 "cells": [
  {
   "cell_type": "markdown",
   "metadata": {},
   "source": [
    "# Funktionen\n"
   ]
  },
  {
   "cell_type": "markdown",
   "metadata": {},
   "source": [
    "1. Funktionen: Funktionen sind Blöcke an Code, denen wir einen Namen geben und die wir immer wieder verwenden können.\n",
    "2. Funktionen können Parameter haben, die wir beim Aufruf der Funktion übergeben müssen und mit denen die Funktion arbeiten kann.\n",
    "3. Funktionen können Werte zurückgeben, die wir dann in unserem Code verwenden können.\n"
   ]
  },
  {
   "cell_type": "markdown",
   "metadata": {},
   "source": [
    "### 1. Funktionen ohne Parameter und Rückgabewert\n"
   ]
  },
  {
   "cell_type": "code",
   "execution_count": null,
   "metadata": {},
   "outputs": [],
   "source": [
    "import random\n",
    "\n",
    "\n",
    "def printe_zufälligen_namen():\n",
    "    namen = [\"Lucy\", \"Mika\", \"Hanno\", \"Paul\"]\n",
    "    name = random.choice(namen)\n",
    "    print(name)\n",
    "\n",
    "\n",
    "printe_zufälligen_namen()"
   ]
  },
  {
   "cell_type": "markdown",
   "metadata": {},
   "source": [
    "### 2. Funktionen mit einem Parameter und ohne Rückgabewert\n"
   ]
  },
  {
   "cell_type": "code",
   "execution_count": null,
   "metadata": {},
   "outputs": [],
   "source": [
    "import random\n",
    "\n",
    "\n",
    "def printe_zufälligen_namen(namen):\n",
    "    name = random.choice(namen)\n",
    "    print(name)\n",
    "\n",
    "\n",
    "unsere_namen = [\"Lucy\", \"Mika\", \"Hanno\", \"Paul\"]\n",
    "printe_zufälligen_namen(unsere_namen)\n",
    "\n",
    "andere_namen = [\"Hans\", \"Peter\", \"Klaus\", \"Günther\"]\n",
    "printe_zufälligen_namen(andere_namen)"
   ]
  },
  {
   "cell_type": "markdown",
   "metadata": {},
   "source": [
    "### 3. Funktionen mit einem Parameter und mit Rückgabewert\n"
   ]
  },
  {
   "cell_type": "code",
   "execution_count": null,
   "metadata": {},
   "outputs": [],
   "source": [
    "import random\n",
    "\n",
    "\n",
    "def printe_zufälligen_namen(namen):\n",
    "    name = random.choice(namen)\n",
    "    print(name)\n",
    "    return name\n",
    "\n",
    "\n",
    "unsere_namen = [\"Lucy\", \"Mika\", \"Hanno\", \"Paul\"]\n",
    "zufälliger_name = printe_zufälligen_namen(unsere_namen)\n",
    "\n",
    "print(\"Zufälliger Name:\", zufälliger_name)"
   ]
  }
 ],
 "metadata": {
  "kernelspec": {
   "display_name": "base",
   "language": "python",
   "name": "python3"
  },
  "language_info": {
   "codemirror_mode": {
    "name": "ipython",
    "version": 3
   },
   "file_extension": ".py",
   "mimetype": "text/x-python",
   "name": "python",
   "nbconvert_exporter": "python",
   "pygments_lexer": "ipython3",
   "version": "3.11.5"
  }
 },
 "nbformat": 4,
 "nbformat_minor": 2
}
