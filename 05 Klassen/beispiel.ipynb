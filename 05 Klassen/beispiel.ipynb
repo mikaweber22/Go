{
 "cells": [
  {
   "cell_type": "markdown",
   "metadata": {},
   "source": [
    "# Klassen\n"
   ]
  },
  {
   "cell_type": "markdown",
   "metadata": {},
   "source": [
    "1. Klassen sind eine Art Zettel, auf dem draufsteht, wie ein Objekt der Klasse aufgebaut ist (Beispiel: Autoplan).\n",
    "    - Objekte sind Instanzen einer Klasse (Beispiel: Auto).\n",
    "2. Klassen haben immer eine Konstruktor-Funktion (der sieht so aus: \\_\\_init\\_\\_).\n",
    "    - Dieser Konstruktor ist immer die Startfunktion, die aufgerufen wird, wenn ein Objekt der Klasse erstellt wird.\n",
    "3. Klassen können Attribute haben. Das sind Eigenschaften, die das Objekt hat (solche Attribute sehen so aus: self.attribut_name).\n",
    "    - Diese Attribute können auch von außerhalb der Klasse aufgerufen werden (solche Attribute sehen so aus: objekt.attribut_name).\n",
    "4. Klassen können Methoden haben. Das sind Funktionen, die in einem Objekt aufgerufen werden können (solche Methoden sehen so aus: self.methode_name()).\n",
    "    - Diese Methoden können auch von außerhalb der Klasse aufgerufen werden (solche Methoden sehen so aus: objekt.methode_name()).\n"
   ]
  },
  {
   "cell_type": "code",
   "execution_count": null,
   "metadata": {},
   "outputs": [],
   "source": [
    "# Beispiel für eine Klasse\n",
    "class Keks:\n",
    "    def __init__(self, name, süße, leckerheit):\n",
    "        self.name = name\n",
    "        self.süße = süße\n",
    "        self.leckerheit = leckerheit\n",
    "\n",
    "\n",
    "pauls_lieblingskeks = Keks(\"Schokolade\", 10, 10)\n",
    "pauls_leckerheit = pauls_lieblingskeks.leckerheit"
   ]
  }
 ],
 "metadata": {
  "language_info": {
   "name": "python"
  }
 },
 "nbformat": 4,
 "nbformat_minor": 2
}
