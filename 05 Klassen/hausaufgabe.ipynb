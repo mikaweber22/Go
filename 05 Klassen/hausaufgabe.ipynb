{
 "cells": [
  {
   "cell_type": "markdown",
   "metadata": {},
   "source": [
    "# Hausaufgaben zum 16.09.2024\n",
    "\n",
    "\"\"\"\n",
    "In der letzten Stunde haben wir die Klasse Auto erstellt.\n",
    "Wir haben Methoden in diese Klasse eingebaut, die uns erlauben, das Auto-Objekt zu beschleunigen und zu bremsen.\n",
    "\n",
    "Zwei Aufgaben sind Hausaufgabe:\n",
    "1. Schreibe eine Funktion außerhalb der Klasse, die `prüfe_bremsen` heißt und die ein Auto-Ojekt als Parameter engegennimmt und prüft, ob das Auto minimal auf 0 km/h kommt, wenn es immer wieder bremst.\n",
    "2. Schreibe eine Funktion außerhalb der Klasse, die `prüfe_beschleunigen` heißt und die ein Auto-Objekt als Parameter entgegennimmt und prüft, ob das Auto maximal seine maximale Geschwindigkeit erreicht, wenn es immer wieder beschleunigt.\n",
    "\"\"\""
   ]
  }
 ],
 "metadata": {
  "language_info": {
   "name": "python"
  }
 },
 "nbformat": 4,
 "nbformat_minor": 2
}
