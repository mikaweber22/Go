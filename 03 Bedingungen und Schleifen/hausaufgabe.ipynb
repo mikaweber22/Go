{
 "cells": [
  {
   "cell_type": "markdown",
   "metadata": {},
   "source": [
    "# Hausaufgaben\n",
    "\n",
    "![Harry Coder, the programming wizard](../_img/harry_coder.png)\n"
   ]
  },
  {
   "cell_type": "markdown",
   "metadata": {},
   "source": [
    "#### 1. Wiederhole 01: Was sind primitive Datentypen? Welche primitive Datentypen haben wir kennengelernt, und was speichern sie?\n",
    "\n",
    "#### 2. Wiederhole 02: Was sind komplexe Datentypen? Was sind Datenstrukturen? Welche Datenstrukturen haben wir kennengelernt?\n"
   ]
  }
 ],
 "metadata": {
  "language_info": {
   "name": "python"
  }
 },
 "nbformat": 4,
 "nbformat_minor": 2
}
