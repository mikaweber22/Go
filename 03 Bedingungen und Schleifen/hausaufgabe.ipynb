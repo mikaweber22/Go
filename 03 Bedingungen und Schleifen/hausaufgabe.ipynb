{
 "cells": [
  {
   "cell_type": "markdown",
   "metadata": {},
   "source": [
    "# Hausaufgaben"
   ]
  },
  {
   "cell_type": "markdown",
   "metadata": {},
   "source": [
    "#### 1. Erstelle eine Liste. Merke dir die Tastenkombination für eckige Klammern!\n",
    "#### 2. Erstelle ein Dictionary. Merke dir die Tastenkombination für geschweifte Klammern!\n",
    "#### 3. Erstelle einen Tupel. Merke dir die Tastenkombination für normale Klammern!\n",
    "\n",
    "#### 4. Erstelle einen for-Loop für eine der Datenstrukturen, die du vorhin erstellt hast. Mache in diesem for-Loop etwas mit den Elementen, die in der Datenstruktur enthalten sind. Was genau du damit machst, kannst du dir aussuchen. Alternative: Stelle deinen Aufgabenteil der Kollektivaufgabe fertig, die wir in der letzten Stunde begonnen hatten."
   ]
  }
 ],
 "metadata": {
  "language_info": {
   "name": "python"
  }
 },
 "nbformat": 4,
 "nbformat_minor": 2
}
