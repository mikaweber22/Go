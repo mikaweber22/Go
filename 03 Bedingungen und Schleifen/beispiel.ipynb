{
 "cells": [
  {
   "cell_type": "markdown",
   "metadata": {},
   "source": [
    "# Bedingungen und Schleifen\n",
    "\n",
    "-   Bedingungen: Bedingungen sind logische Aussagen, die immer entweder wahr oder falsch sind.\n",
    "-   Beispielsatz: \"Unter der Bedingung, dass ich gerade spazieren gehe, kaufe ich mir ein Eis.\"\n",
    "-   Bedingung hier wäre: \"Ich gehe spazieren.\"\n",
    "-   Bedingungen kann man prüfen.\n",
    "-   Prüfung einer Bedingung: Prüfungen von Bedingungen sind Fragen, dessen Antworten den Wahrheitswert der Bedingung ergeben.\n",
    "-   Beispiel für Prüfung: \"Gehe ich spazieren?\"\n",
    "-   Beispiel für eine Prüfung: \"\"\n"
   ]
  },
  {
   "cell_type": "code",
   "execution_count": null,
   "metadata": {},
   "outputs": [],
   "source": [
    "liste = [\"a\", \"b\", \"c\"]\n",
    "index_liste = [0, 2]\n",
    "for i in index_liste:\n",
    "    print(liste[i])"
   ]
  },
  {
   "cell_type": "markdown",
   "metadata": {},
   "source": [
    "### Wie man eine Variable mit einem Datentyp vom Typ \"Wahrheitswert\" erstellt (Boolean-Variable)\n"
   ]
  },
  {
   "cell_type": "code",
   "execution_count": 9,
   "metadata": {},
   "outputs": [
    {
     "name": "stdout",
     "output_type": "stream",
     "text": [
      "Och, ich hol mir n' Eis, Mann. Oder nen Eismann. Mal sehen. Ich lass' es offen. (Oder ne Eisfrau. Die sind sehr schön. Und haben Eis! Und wer mag dieses Eis noch? Ihre Eismänner. Ich meine, wer mag denn kein Eis, man?!)\n"
     ]
    }
   ],
   "source": [
    "sonne_scheint = True\n",
    "noch_früh = True\n",
    "\n",
    "ich_gehe_raus = sonne_scheint & noch_früh\n",
    "\n",
    "if ich_gehe_raus:\n",
    "    print(\n",
    "        \"Och, ich hol mir n' Eis, Mann. Oder nen Eismann. Mal sehen. Ich lass' es offen. (Oder ne Eisfrau. Die sind sehr schön. Und haben Eis! Und wer mag dieses Eis noch? Ihre Eismänner. Ich meine, wer mag denn kein Eis, man?!)\"\n",
    "    )"
   ]
  }
 ],
 "metadata": {
  "kernelspec": {
   "display_name": "base",
   "language": "python",
   "name": "python3"
  },
  "language_info": {
   "codemirror_mode": {
    "name": "ipython",
    "version": 3
   },
   "file_extension": ".py",
   "mimetype": "text/x-python",
   "name": "python",
   "nbconvert_exporter": "python",
   "pygments_lexer": "ipython3",
   "version": "3.11.5"
  }
 },
 "nbformat": 4,
 "nbformat_minor": 2
}
