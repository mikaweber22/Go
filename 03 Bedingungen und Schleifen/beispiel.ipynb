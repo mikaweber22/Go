{
 "cells": [
  {
   "cell_type": "markdown",
   "metadata": {},
   "source": [
    "# Bedingungen und Schleifen\n",
    "\n",
    "-   Bedingungen: Bedingungen sind logische Aussagen, die immer entweder wahr oder falsch sind.\n",
    "-   Beispielsatz: \"Unter der Bedingung, dass ich gerade spazieren gehe, kaufe ich mir ein Eis.\"\n",
    "-   Bedingung hier wäre: \"Ich gehe spazieren.\"\n",
    "-   Bedingungen kann man prüfen.\n",
    "-   Prüfung einer Bedingung: Prüfungen von Bedingungen sind Fragen, dessen Antworten den Wahrheitswert der Bedingung ergeben.\n",
    "-   Beispiel für Prüfung: \"Gehe ich spazieren?\"\n",
    "-   Beispiel für eine Prüfung: \"\"\n"
   ]
  },
  {
   "cell_type": "markdown",
   "metadata": {},
   "source": [
    "### Wie man eine Variable mit einem Datentyp vom Typ \"Wahrheitswert\" erstellt (Boolean-Variable)\n"
   ]
  },
  {
   "cell_type": "code",
   "execution_count": 4,
   "metadata": {},
   "outputs": [
    {
     "name": "stdout",
     "output_type": "stream",
     "text": [
      "Ich hol mir 'n Eis.\n"
     ]
    }
   ],
   "source": [
    "sonne_scheint = True\n",
    "noch_früh = True\n",
    "warm = True\n",
    "\n",
    "ich_gehe_raus = (sonne_scheint) or ((not noch_früh) and warm)\n",
    "\n",
    "if ich_gehe_raus:\n",
    "    print(\"Ich hol mir 'n Eis.\")\n",
    "\n",
    "elif noch_früh:\n",
    "    print(\"Ich gehe zu Superfly\")\n",
    "\n",
    "else:\n",
    "    print(\"Ich zieh' mir Netflix rein.\")"
   ]
  },
  {
   "cell_type": "markdown",
   "metadata": {},
   "source": [
    "### Schleifen\n"
   ]
  },
  {
   "cell_type": "code",
   "execution_count": 5,
   "metadata": {},
   "outputs": [
    {
     "name": "stdout",
     "output_type": "stream",
     "text": [
      "Jo, nice, noch draußen.\n",
      "Jo, nice, noch draußen.\n",
      "Jo, nice, noch draußen.\n",
      "Jo, nice, noch draußen.\n",
      "Jo, nice, noch draußen.\n",
      "Jo, nice, noch draußen.\n",
      "Jo, nice, noch draußen.\n",
      "Jo, nice, noch draußen.\n",
      "Jo, nice, noch draußen.\n",
      "Jo, nice, noch draußen.\n",
      "Wird langsam spät.\n",
      "Jo, nice, noch draußen.\n",
      "Jo, nice, noch draußen.\n",
      "Jo, nice, noch draußen.\n",
      "Jo, nice, noch draußen.\n",
      "Jo, nice, noch draußen.\n",
      "Jo, nice, noch draußen.\n",
      "Jo, nice, noch draußen.\n",
      "Jo, nice, noch draußen.\n",
      "Jo, nice, noch draußen.\n",
      "Jo, nice, noch draußen.\n",
      "Jetzt wird's dunkel.\n",
      "Ich geh' nach Hause.\n"
     ]
    }
   ],
   "source": [
    "i = 0\n",
    "while ich_gehe_raus:\n",
    "    print(\"Jo, nice, noch draußen.\")\n",
    "    i = i + 1\n",
    "    if i == 10:\n",
    "        noch_früh = False\n",
    "        print(\"Wird langsam spät.\")\n",
    "    elif i == 20:\n",
    "        sonne_scheint = False\n",
    "        print(\"Jetzt wird's dunkel.\")\n",
    "    ich_gehe_raus = (sonne_scheint) or (noch_früh and warm)\n",
    "\n",
    "print(\"Ich geh' nach Hause.\")"
   ]
  }
 ],
 "metadata": {
  "kernelspec": {
   "display_name": "base",
   "language": "python",
   "name": "python3"
  },
  "language_info": {
   "codemirror_mode": {
    "name": "ipython",
    "version": 3
   },
   "file_extension": ".py",
   "mimetype": "text/x-python",
   "name": "python",
   "nbconvert_exporter": "python",
   "pygments_lexer": "ipython3",
   "version": "3.11.5"
  }
 },
 "nbformat": 4,
 "nbformat_minor": 2
}
