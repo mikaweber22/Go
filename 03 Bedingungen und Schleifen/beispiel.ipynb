{
 "cells": [
  {
   "cell_type": "markdown",
   "metadata": {},
   "source": [
    "# Bedingungen und Schleifen\n",
    "\n",
    "Bedingungen: Bedingungen sind logische Aussagen, die immer entweder wahr oder falsch sind.\n",
    "Beispielsatz: \"Unter der Bedingung, dass ich gerade spazieren gehe, kaufe ich mir ein Eis.\"\n",
    "Bedingung hier wäre: \"Ich gehe spazieren.\"\n",
    "Bedingungen kann man prüfen.\n",
    "Prüfung einer Bedingung: Prüfungen von Bedingungen sind Fragen, dessen Antworten den Wahrheitswert der Bedingung ergeben.\n",
    "Beispiel für Prüfung: \"Gehe ich spazieren?\"\n",
    "Beispiel für eine Prüfung: \"\"\n",
    "\n",
    "\n"
   ]
  },
  {
   "cell_type": "code",
   "execution_count": null,
   "metadata": {},
   "outputs": [],
   "source": [
    "liste = [\"a\", \"b\", \"c\"]\n",
    "index_liste = [0, 2]\n",
    "for i in index_liste:\n",
    "    print(liste[i])"
   ]
  }
 ],
 "metadata": {
  "language_info": {
   "name": "python"
  }
 },
 "nbformat": 4,
 "nbformat_minor": 2
}
